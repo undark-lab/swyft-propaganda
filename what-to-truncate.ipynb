{
 "cells": [
  {
   "cell_type": "code",
   "execution_count": 1,
   "id": "583e42b6-3407-42ee-817f-fad4829cbd21",
   "metadata": {},
   "outputs": [],
   "source": [
    "%load_ext autoreload\n",
    "%autoreload 2\n",
    "%matplotlib inline"
   ]
  },
  {
   "cell_type": "code",
   "execution_count": 2,
   "id": "5876ef55-ff88-4dcf-a814-a57414f7249a",
   "metadata": {},
   "outputs": [],
   "source": [
    "import numpy as np\n",
    "import scipy\n",
    "import scipy.stats\n",
    "\n",
    "import matplotlib.pyplot as plt\n",
    "import seaborn as sns"
   ]
  },
  {
   "cell_type": "code",
   "execution_count": 3,
   "id": "70addd7e-4f47-40d3-a29c-313a76ff106e",
   "metadata": {},
   "outputs": [],
   "source": [
    "# slide = 13 + 1/3, 7.5\n",
    "# factors = 1/3, 1/2\n",
    "# width, height = [a * b for a, b in zip(factors, (slide))]\n",
    "wh = 6.5, 4\n",
    "factor = 2 / 3\n",
    "width, height = [factor * x for x in wh]\n",
    "\n",
    "XMIN, XMAX, RESO = -0.5, 1.5, 1000\n",
    "DELTA = 1e-6\n",
    "\n",
    "def fig_ax():\n",
    "    fig, ax = plt.subplots(figsize=(width, height))\n",
    "    return fig, ax\n",
    "\n",
    "def plot_prior_posterior(ax):    \n",
    "    x = np.linspace(XMIN, XMAX, RESO)\n",
    "    ns = n.pdf(x)\n",
    "    ax.plot(x, ns / ns.max(), label=r\"$p(\\theta \\, \\vert \\, x)$\")\n",
    "    us = u.pdf(x)\n",
    "    ax.plot(x, us, label=r\"$p(\\theta)$\")\n",
    "    return None\n",
    "\n",
    "def plot_hatches(ax, cdf, delta=0.0005):\n",
    "    x = np.linspace(0., 1., RESO)\n",
    "    ax.fill_between(\n",
    "        x, \n",
    "        y1=1, \n",
    "        where=~np.logical_and(0 + delta < cdf(x), cdf(x) < 1 - delta),\n",
    "        facecolor=\"none\", \n",
    "        hatch=\"xxxx\",\n",
    "        edgecolor=\"r\",\n",
    "        alpha=0.25,\n",
    "    )\n",
    "    return None\n",
    "\n",
    "def plot_trunc_prior_posterior(ax, cdf, delta=0.0005):\n",
    "    x = np.linspace(XMIN, XMAX, RESO)\n",
    "    ns = n.pdf(x)\n",
    "    ax.plot(x, ns / ns.max(), label=r\"$p(\\theta \\, \\vert \\, x)$\")\n",
    "    \n",
    "    us = u.pdf(x)\n",
    "    ax.plot(x, us, \"--\", alpha=0.5, label=r\"$p(\\theta)$\")\n",
    "    \n",
    "    us = u.pdf(x)\n",
    "    us = np.where(\n",
    "        np.logical_and(0 + delta < cdf(x), cdf(x) < 1 - delta),\n",
    "        us,\n",
    "        0.0,\n",
    "    )\n",
    "    ax.plot(x, us, c='orange', label=r\"$p^{\\mathrm{new}}(\\theta)$\")\n",
    "    return None\n",
    "\n",
    "def plot_settings(ax):\n",
    "    ax.legend()\n",
    "    ax.tick_params(\n",
    "        axis='y',          # changes apply to the x-axis\n",
    "        which='both',      # both major and minor ticks are affected\n",
    "        bottom=False,      # ticks along the bottom edge are off\n",
    "        top=False,         # ticks along the top edge are off\n",
    "        labelbottom=False, # labels along the bottom edge are off\n",
    "        left=False,\n",
    "        labelleft=False,\n",
    "    )\n",
    "    return None\n",
    "\n",
    "SAVE_KWARGS = dict(\n",
    "    transparent=True,\n",
    "    bbox_inches='tight',\n",
    ")"
   ]
  },
  {
   "cell_type": "code",
   "execution_count": 4,
   "id": "e65476e7-4b41-4386-9367-dbf4a2fddd21",
   "metadata": {},
   "outputs": [],
   "source": [
    "u = scipy.stats.uniform()\n",
    "n = scipy.stats.norm(loc=0.675, scale=0.05)"
   ]
  },
  {
   "cell_type": "code",
   "execution_count": 5,
   "id": "527df9f8-66a6-4e27-b9ee-391b6535bc71",
   "metadata": {},
   "outputs": [
    {
     "data": {
      "image/png": "[encoded data removed]",
      "text/plain": [
       "<Figure size 312x192 with 1 Axes>"
      ]
     },
     "metadata": {},
     "output_type": "display_data"
    }
   ],
   "source": [
    "sns.set_style(\"white\")\n",
    "fig, ax = fig_ax()\n",
    "\n",
    "plot_prior_posterior(ax)\n",
    "plot_settings(ax)\n",
    "\n",
    "\n",
    "fig.tight_layout()\n",
    "fig.savefig(\n",
    "    \"prior-and-posterior-clean.png\",\n",
    "    **SAVE_KWARGS,\n",
    ")"
   ]
  },
  {
   "cell_type": "code",
   "execution_count": 6,
   "id": "d7b7dfef-47a1-4eb6-ba00-b8417ab87e77",
   "metadata": {},
   "outputs": [
    {
     "data": {
      "image/png": "[encoded data removed]",
      "text/plain": [
       "<Figure size 312x192 with 1 Axes>"
      ]
     },
     "metadata": {},
     "output_type": "display_data"
    }
   ],
   "source": [
    "sns.set_style(\"white\")\n",
    "fig, ax = fig_ax()\n",
    "\n",
    "plot_prior_posterior(ax)\n",
    "plot_hatches(ax, n.cdf, delta=DELTA)\n",
    "plot_settings(ax)\n",
    "\n",
    "fig.tight_layout()\n",
    "fig.savefig(\n",
    "    \"prior-and-posterior-hatch.png\",\n",
    "    **SAVE_KWARGS,\n",
    ")"
   ]
  },
  {
   "cell_type": "code",
   "execution_count": 7,
   "id": "6a06d2bc-8600-43dd-a141-8eaa5d767ec0",
   "metadata": {},
   "outputs": [
    {
     "data": {
      "image/png": "[encoded data removed]",
      "text/plain": [
       "<Figure size 312x192 with 1 Axes>"
      ]
     },
     "metadata": {},
     "output_type": "display_data"
    }
   ],
   "source": [
    "sns.set_style(\"white\")\n",
    "fig, ax = fig_ax()\n",
    "\n",
    "plot_trunc_prior_posterior(ax, n.cdf, delta=DELTA)\n",
    "plot_settings(ax)\n",
    "\n",
    "\n",
    "fig.tight_layout()\n",
    "fig.savefig(\n",
    "    \"prior-and-posterior-trunc.png\",\n",
    "    **SAVE_KWARGS,\n",
    ")"
   ]
  },
  {
   "cell_type": "code",
   "execution_count": null,
   "id": "ab423193-47f3-4046-80bf-aab92e663049",
   "metadata": {},
   "outputs": [],
   "source": []
  },
  {
   "cell_type": "code",
   "execution_count": null,
   "id": "4f19fdfc-49bc-4bc7-983c-4a3cbde739a5",
   "metadata": {},
   "outputs": [],
   "source": []
  }
 ],
 "metadata": {
  "kernelspec": {
   "display_name": "Python 3",
   "language": "python",
   "name": "python3"
  },
  "language_info": {
   "codemirror_mode": {
    "name": "ipython",
    "version": 3
   },
   "file_extension": ".py",
   "mimetype": "text/x-python",
   "name": "python",
   "nbconvert_exporter": "python",
   "pygments_lexer": "ipython3",
   "version": "3.8.8"
  }
 },
 "nbformat": 4,
 "nbformat_minor": 5
}
